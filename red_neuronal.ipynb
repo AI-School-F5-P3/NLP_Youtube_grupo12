{
 "cells": [
  {
   "cell_type": "code",
   "execution_count": 1,
   "metadata": {},
   "outputs": [],
   "source": [
    "import pandas as pd\n",
    "from sklearn.model_selection import train_test_split\n",
    "from sklearn.feature_extraction.text import CountVectorizer\n",
    "\n",
    "# Cargar los datos\n",
    "df = pd.read_csv('youtoxic_english_1000.csv')\n",
    "\n",
    "# Preprocesar el texto\n",
    "vectorizer = CountVectorizer(max_features=5000)\n",
    "X = vectorizer.fit_transform(df['Text']).toarray()\n",
    "y = df['IsToxic'].astype(int).values\n",
    "\n",
    "# Dividir los datos\n",
    "X_train, X_test, y_train, y_test = train_test_split(X, y, test_size=0.2, random_state=42)\n",
    "\n"
   ]
  },
  {
   "cell_type": "code",
   "execution_count": 2,
   "metadata": {},
   "outputs": [],
   "source": [
    "import torch\n",
    "import torch.nn as nn\n",
    "import torch.optim as optim\n",
    "from torch.utils.data import TensorDataset, DataLoader\n",
    "\n",
    "# Convertir los datos a tensores de PyTorch\n",
    "X_train_tensor = torch.FloatTensor(X_train)\n",
    "y_train_tensor = torch.FloatTensor(y_train)\n",
    "X_test_tensor = torch.FloatTensor(X_test)\n",
    "y_test_tensor = torch.FloatTensor(y_test)\n",
    "\n",
    "# Definir el modelo\n",
    "class ToxicClassifier(nn.Module):\n",
    "    def __init__(self, input_size):\n",
    "        super(ToxicClassifier, self).__init__()\n",
    "        self.fc1 = nn.Linear(input_size, 64)\n",
    "        self.fc2 = nn.Linear(64, 32)\n",
    "        self.fc3 = nn.Linear(32, 1)\n",
    "        self.relu = nn.ReLU()\n",
    "        self.sigmoid = nn.Sigmoid()\n",
    "\n",
    "    def forward(self, x):\n",
    "        x = self.relu(self.fc1(x))\n",
    "        x = self.relu(self.fc2(x))\n",
    "        x = self.sigmoid(self.fc3(x))\n",
    "        return x\n",
    "\n",
    "# Crear el modelo\n",
    "model = ToxicClassifier(X_train.shape[1])\n",
    "\n",
    "# Definir la función de pérdida y el optimizador\n",
    "criterion = nn.BCELoss()\n",
    "optimizer = optim.Adam(model.parameters())\n",
    "\n",
    "# Crear DataLoader\n",
    "train_dataset = TensorDataset(X_train_tensor, y_train_tensor)\n",
    "train_loader = DataLoader(train_dataset, batch_size=32, shuffle=True)\n"
   ]
  },
  {
   "cell_type": "code",
   "execution_count": 3,
   "metadata": {},
   "outputs": [
    {
     "name": "stdout",
     "output_type": "stream",
     "text": [
      "Época 1/10, Pérdida: 0.6857\n",
      "Época 2/10, Pérdida: 0.6398\n",
      "Época 3/10, Pérdida: 0.4946\n",
      "Época 4/10, Pérdida: 0.2590\n",
      "Época 5/10, Pérdida: 0.1023\n",
      "Época 6/10, Pérdida: 0.0440\n",
      "Época 7/10, Pérdida: 0.0649\n",
      "Época 8/10, Pérdida: 0.0444\n",
      "Época 9/10, Pérdida: 0.0116\n",
      "Época 10/10, Pérdida: 0.0054\n"
     ]
    }
   ],
   "source": [
    "# Entrenamiento\n",
    "num_epochs = 10\n",
    "for epoch in range(num_epochs):\n",
    "    model.train()\n",
    "    for batch_X, batch_y in train_loader:\n",
    "        optimizer.zero_grad()\n",
    "        outputs = model(batch_X)\n",
    "        loss = criterion(outputs.squeeze(), batch_y)\n",
    "        loss.backward()\n",
    "        optimizer.step()\n",
    "    \n",
    "    print(f'Época {epoch+1}/{num_epochs}, Pérdida: {loss.item():.4f}')\n"
   ]
  },
  {
   "cell_type": "code",
   "execution_count": 4,
   "metadata": {},
   "outputs": [
    {
     "name": "stdout",
     "output_type": "stream",
     "text": [
      "Precisión en el conjunto de prueba: 0.6900\n"
     ]
    }
   ],
   "source": [
    "model.eval()\n",
    "with torch.no_grad():\n",
    "    test_outputs = model(X_test_tensor)\n",
    "    test_predictions = (test_outputs.squeeze() > 0.5).float()\n",
    "    accuracy = (test_predictions == y_test_tensor).float().mean()\n",
    "    print(f'Precisión en el conjunto de prueba: {accuracy.item():.4f}')\n"
   ]
  },
  {
   "cell_type": "code",
   "execution_count": 7,
   "metadata": {},
   "outputs": [
    {
     "name": "stdout",
     "output_type": "stream",
     "text": [
      "La probabilidad de que el texto sea tóxico es: 0.1503\n"
     ]
    }
   ],
   "source": [
    "def predict_toxicity(text):\n",
    "    # Preprocesar el texto\n",
    "    text_vectorized = vectorizer.transform([text]).toarray()\n",
    "    text_tensor = torch.FloatTensor(text_vectorized)\n",
    "    \n",
    "    # Hacer la predicción\n",
    "    model.eval()\n",
    "    with torch.no_grad():\n",
    "        prediction = model(text_tensor)\n",
    "    \n",
    "    return prediction.item()\n",
    "\n",
    "# Ejemplo de uso\n",
    "nuevo_texto = \"the live is crazy\"\n",
    "toxicidad = predict_toxicity(nuevo_texto)\n",
    "print(f\"La probabilidad de que el texto sea tóxico es: {toxicidad:.4f}\")\n"
   ]
  },
  {
   "cell_type": "code",
   "execution_count": 8,
   "metadata": {},
   "outputs": [
    {
     "name": "stdout",
     "output_type": "stream",
     "text": [
      "Métricas en conjunto de entrenamiento:\n",
      "Precisión: 1.0000\n",
      "Recall: 1.0000\n",
      "F1-Score: 1.0000\n",
      "Matriz de confusión:\n",
      "[[445   0]\n",
      " [  0 355]]\n",
      "\n",
      "Métricas en conjunto de prueba:\n",
      "Precisión: 0.6900\n",
      "Recall: 0.5981\n",
      "F1-Score: 0.6737\n",
      "Matriz de confusión:\n",
      "[[74 19]\n",
      " [43 64]]\n"
     ]
    }
   ],
   "source": [
    "from sklearn.metrics import accuracy_score, precision_score, recall_score, f1_score, confusion_matrix\n",
    "\n",
    "def evaluate_model(model, X, y):\n",
    "    model.eval()\n",
    "    with torch.no_grad():\n",
    "        outputs = model(X)\n",
    "        predictions = (outputs.squeeze() > 0.5).float()\n",
    "        \n",
    "        accuracy = accuracy_score(y.numpy(), predictions.numpy())\n",
    "        precision = precision_score(y.numpy(), predictions.numpy())\n",
    "        recall = recall_score(y.numpy(), predictions.numpy())\n",
    "        f1 = f1_score(y.numpy(), predictions.numpy())\n",
    "        \n",
    "        print(f'Precisión: {accuracy:.4f}')\n",
    "        print(f'Recall: {recall:.4f}')\n",
    "        print(f'F1-Score: {f1:.4f}')\n",
    "        \n",
    "        cm = confusion_matrix(y.numpy(), predictions.numpy())\n",
    "        print('Matriz de confusión:')\n",
    "        print(cm)\n",
    "\n",
    "# Evaluar en conjunto de entrenamiento y prueba\n",
    "print(\"Métricas en conjunto de entrenamiento:\")\n",
    "evaluate_model(model, X_train_tensor, y_train_tensor)\n",
    "print(\"\\nMétricas en conjunto de prueba:\")\n",
    "evaluate_model(model, X_test_tensor, y_test_tensor)\n"
   ]
  },
  {
   "cell_type": "code",
   "execution_count": 9,
   "metadata": {},
   "outputs": [
    {
     "name": "stdout",
     "output_type": "stream",
     "text": [
      "Fold 1 - Precisión: 0.5938\n",
      "Fold 2 - Precisión: 0.5625\n",
      "Fold 3 - Precisión: 0.6000\n",
      "Fold 4 - Precisión: 0.5625\n",
      "Fold 5 - Precisión: 0.5312\n",
      "Precisión media: 0.5700\n"
     ]
    }
   ],
   "source": [
    "from sklearn.model_selection import KFold\n",
    "\n",
    "def cross_validate(X, y, num_folds=5):\n",
    "    kf = KFold(n_splits=num_folds, shuffle=True, random_state=42)\n",
    "    accuracies = []\n",
    "    \n",
    "    for fold, (train_index, val_index) in enumerate(kf.split(X), 1):\n",
    "        X_train, X_val = X[train_index], X[val_index]\n",
    "        y_train, y_val = y[train_index], y[val_index]\n",
    "        \n",
    "        model = ToxicClassifier(X.shape[1])\n",
    "        criterion = nn.BCELoss()\n",
    "        optimizer = optim.Adam(model.parameters())\n",
    "        \n",
    "        for epoch in range(num_epochs):\n",
    "            model.train()\n",
    "            optimizer.zero_grad()\n",
    "            outputs = model(X_train)\n",
    "            loss = criterion(outputs.squeeze(), y_train)\n",
    "            loss.backward()\n",
    "            optimizer.step()\n",
    "        \n",
    "        model.eval()\n",
    "        with torch.no_grad():\n",
    "            val_outputs = model(X_val)\n",
    "            val_predictions = (val_outputs.squeeze() > 0.5).float()\n",
    "            accuracy = (val_predictions == y_val).float().mean()\n",
    "            accuracies.append(accuracy.item())\n",
    "        \n",
    "        print(f'Fold {fold} - Precisión: {accuracy.item():.4f}')\n",
    "    \n",
    "    print(f'Precisión media: {sum(accuracies) / len(accuracies):.4f}')\n",
    "\n",
    "cross_validate(X_train_tensor, y_train_tensor)\n"
   ]
  },
  {
   "cell_type": "code",
   "execution_count": 10,
   "metadata": {},
   "outputs": [
    {
     "data": {
      "image/png": "[encoded data removed]",
      "text/plain": [
       "<Figure size 1200x400 with 2 Axes>"
      ]
     },
     "metadata": {},
     "output_type": "display_data"
    }
   ],
   "source": [
    "import matplotlib.pyplot as plt\n",
    "\n",
    "def plot_learning_curves(model, X_train, y_train, X_val, y_val, num_epochs=50):\n",
    "    train_losses = []\n",
    "    val_losses = []\n",
    "    train_accuracies = []\n",
    "    val_accuracies = []\n",
    "    \n",
    "    criterion = nn.BCELoss()\n",
    "    optimizer = optim.Adam(model.parameters())\n",
    "    \n",
    "    for epoch in range(num_epochs):\n",
    "        model.train()\n",
    "        optimizer.zero_grad()\n",
    "        train_outputs = model(X_train)\n",
    "        train_loss = criterion(train_outputs.squeeze(), y_train)\n",
    "        train_loss.backward()\n",
    "        optimizer.step()\n",
    "        \n",
    "        model.eval()\n",
    "        with torch.no_grad():\n",
    "            val_outputs = model(X_val)\n",
    "            val_loss = criterion(val_outputs.squeeze(), y_val)\n",
    "            \n",
    "            train_predictions = (train_outputs.squeeze() > 0.5).float()\n",
    "            val_predictions = (val_outputs.squeeze() > 0.5).float()\n",
    "            \n",
    "            train_accuracy = (train_predictions == y_train).float().mean()\n",
    "            val_accuracy = (val_predictions == y_val).float().mean()\n",
    "        \n",
    "        train_losses.append(train_loss.item())\n",
    "        val_losses.append(val_loss.item())\n",
    "        train_accuracies.append(train_accuracy.item())\n",
    "        val_accuracies.append(val_accuracy.item())\n",
    "    \n",
    "    plt.figure(figsize=(12, 4))\n",
    "    plt.subplot(1, 2, 1)\n",
    "    plt.plot(train_losses, label='Entrenamiento')\n",
    "    plt.plot(val_losses, label='Validación')\n",
    "    plt.title('Curva de pérdida')\n",
    "    plt.xlabel('Época')\n",
    "    plt.ylabel('Pérdida')\n",
    "    plt.legend()\n",
    "    \n",
    "    plt.subplot(1, 2, 2)\n",
    "    plt.plot(train_accuracies, label='Entrenamiento')\n",
    "    plt.plot(val_accuracies, label='Validación')\n",
    "    plt.title('Curva de precisión')\n",
    "    plt.xlabel('Época')\n",
    "    plt.ylabel('Precisión')\n",
    "    plt.legend()\n",
    "    \n",
    "    plt.tight_layout()\n",
    "    plt.show()\n",
    "\n",
    "# Dividir los datos en entrenamiento y validación\n",
    "X_train, X_val, y_train, y_val = train_test_split(X_train_tensor, y_train_tensor, test_size=0.2, random_state=42)\n",
    "\n",
    "# Crear un nuevo modelo para las curvas de aprendizaje\n",
    "model_curves = ToxicClassifier(X_train.shape[1])\n",
    "\n",
    "plot_learning_curves(model_curves, X_train, y_train, X_val, y_val)\n"
   ]
  }
 ],
 "metadata": {
  "kernelspec": {
   "display_name": "Python 3",
   "language": "python",
   "name": "python3"
  },
  "language_info": {
   "codemirror_mode": {
    "name": "ipython",
    "version": 3
   },
   "file_extension": ".py",
   "mimetype": "text/x-python",
   "name": "python",
   "nbconvert_exporter": "python",
   "pygments_lexer": "ipython3",
   "version": "3.10.0"
  }
 },
 "nbformat": 4,
 "nbformat_minor": 2
}
