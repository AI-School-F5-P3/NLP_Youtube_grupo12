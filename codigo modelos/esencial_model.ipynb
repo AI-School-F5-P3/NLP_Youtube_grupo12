{
 "cells": [
  {
   "cell_type": "code",
   "execution_count": 4,
   "metadata": {},
   "outputs": [
    {
     "name": "stdout",
     "output_type": "stream",
     "text": [
      "Precisión en el conjunto de entrenamiento: 1.0\n",
      "Precisión en el conjunto de prueba: 0.725\n",
      "\n",
      "Informe de clasificación en el conjunto de prueba:\n",
      "              precision    recall  f1-score   support\n",
      "\n",
      "       False       0.65      0.87      0.75        93\n",
      "        True       0.84      0.60      0.70       107\n",
      "\n",
      "    accuracy                           0.72       200\n",
      "   macro avg       0.75      0.73      0.72       200\n",
      "weighted avg       0.75      0.72      0.72       200\n",
      "\n",
      "\n",
      "Diferencia de precisión (overfitting): 0.2750\n"
     ]
    }
   ],
   "source": [
    "import pandas as pd\n",
    "import spacy\n",
    "from sklearn.model_selection import train_test_split\n",
    "from sklearn.ensemble import RandomForestClassifier\n",
    "from sklearn.metrics import accuracy_score, classification_report\n",
    "from sklearn.feature_extraction.text import CountVectorizer\n",
    "import joblib\n",
    "\n",
    "# Cargar el dataset\n",
    "df = pd.read_csv('youtoxic_english_1000.csv')\n",
    "\n",
    "# Preparar los datos\n",
    "X = df['Text']\n",
    "y = df['IsToxic']\n",
    "\n",
    "# Dividir los datos en conjuntos de entrenamiento y prueba\n",
    "X_train, X_test, y_train, y_test = train_test_split(X, y, test_size=0.2, random_state=42)\n",
    "\n",
    "# Cargar el modelo de SpaCy en inglés\n",
    "nlp = spacy.load('en_core_web_sm')\n",
    "\n",
    "# Función para procesar el texto con SpaCy\n",
    "def process_text(text):\n",
    "    doc = nlp(text)\n",
    "    return ' '.join([token.lemma_.lower() for token in doc if not token.is_stop and not token.is_punct])\n",
    "\n",
    "# Aplicar el procesamiento de texto\n",
    "X_train_processed = X_train.apply(process_text)\n",
    "X_test_processed = X_test.apply(process_text)\n",
    "\n",
    "# Vectorizar el texto\n",
    "vectorizer = CountVectorizer()\n",
    "X_train_vectorized = vectorizer.fit_transform(X_train_processed)\n",
    "X_test_vectorized = vectorizer.transform(X_test_processed)\n",
    "\n",
    "# Entrenar el modelo Random Forest\n",
    "rf_model = RandomForestClassifier(n_estimators=100, random_state=42)\n",
    "rf_model.fit(X_train_vectorized, y_train)\n",
    "\n",
    "# Calcular el rendimiento en el conjunto de entrenamiento\n",
    "y_train_pred = rf_model.predict(X_train_vectorized)\n",
    "train_accuracy = accuracy_score(y_train, y_train_pred)\n",
    "\n",
    "# Calcular el rendimiento en el conjunto de prueba\n",
    "y_test_pred = rf_model.predict(X_test_vectorized)\n",
    "test_accuracy = accuracy_score(y_test, y_test_pred)\n",
    "\n",
    "print(\"Precisión en el conjunto de entrenamiento:\", train_accuracy)\n",
    "print(\"Precisión en el conjunto de prueba:\", test_accuracy)\n",
    "\n",
    "print(\"\\nInforme de clasificación en el conjunto de prueba:\")\n",
    "print(classification_report(y_test, y_test_pred))\n",
    "\n",
    "# Calcular la diferencia de rendimiento\n",
    "overfitting = train_accuracy - test_accuracy\n",
    "print(f\"\\nDiferencia de precisión (overfitting): {overfitting:.4f}\")"
   ]
  },
  {
   "cell_type": "code",
   "execution_count": 5,
   "metadata": {},
   "outputs": [
    {
     "data": {
      "text/plain": [
       "['esencial_vectorizer.joblib']"
      ]
     },
     "execution_count": 5,
     "metadata": {},
     "output_type": "execute_result"
    }
   ],
   "source": [
    "# Guardar el modelo y el vectorizador\n",
    "joblib.dump(rf_model, 'esencial_model.joblib')\n",
    "joblib.dump(vectorizer, 'esencial_vectorizer.joblib')\n"
   ]
  }
 ],
 "metadata": {
  "kernelspec": {
   "display_name": "Python 3",
   "language": "python",
   "name": "python3"
  },
  "language_info": {
   "codemirror_mode": {
    "name": "ipython",
    "version": 3
   },
   "file_extension": ".py",
   "mimetype": "text/x-python",
   "name": "python",
   "nbconvert_exporter": "python",
   "pygments_lexer": "ipython3",
   "version": "3.10.0"
  }
 },
 "nbformat": 4,
 "nbformat_minor": 2
}
