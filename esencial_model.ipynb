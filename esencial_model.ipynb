{
 "cells": [
  {
   "cell_type": "code",
   "execution_count": 1,
   "metadata": {},
   "outputs": [
    {
     "name": "stderr",
     "output_type": "stream",
     "text": [
      "/Library/Frameworks/Python.framework/Versions/3.10/lib/python3.10/site-packages/tqdm/auto.py:21: TqdmWarning: IProgress not found. Please update jupyter and ipywidgets. See https://ipywidgets.readthedocs.io/en/stable/user_install.html\n",
      "  from .autonotebook import tqdm as notebook_tqdm\n"
     ]
    },
    {
     "name": "stdout",
     "output_type": "stream",
     "text": [
      "Precisión en el conjunto de entrenamiento: 1.0\n",
      "Precisión en el conjunto de prueba: 0.71\n",
      "Overfitting exacto:  0.29000000000000004\n",
      "\n",
      "Informe de clasificación en el conjunto de prueba:\n",
      "              precision    recall  f1-score   support\n",
      "\n",
      "       False       0.64      0.88      0.74        93\n",
      "        True       0.85      0.56      0.67       107\n",
      "\n",
      "    accuracy                           0.71       200\n",
      "   macro avg       0.74      0.72      0.71       200\n",
      "weighted avg       0.75      0.71      0.70       200\n",
      "\n",
      "Modelo guardado en esencial_model.joblib\n"
     ]
    }
   ],
   "source": [
    "import pandas as pd\n",
    "from sklearn.model_selection import train_test_split\n",
    "from sklearn.ensemble import RandomForestClassifier\n",
    "from sklearn.metrics import accuracy_score, classification_report\n",
    "from transformers import BertTokenizer, BertModel\n",
    "import torch\n",
    "import joblib\n",
    "\n",
    "# Cargar el dataset\n",
    "df = pd.read_csv('youtoxic_english_1000.csv')\n",
    "\n",
    "# Preparar los datos\n",
    "X = df['Text']\n",
    "y = df['IsToxic']\n",
    "\n",
    "# Dividir los datos en conjuntos de entrenamiento y prueba\n",
    "X_train, X_test, y_train, y_test = train_test_split(X, y, test_size=0.2, random_state=42)\n",
    "\n",
    "# Inicializar el modelo y tokenizer de BERT\n",
    "tokenizer = BertTokenizer.from_pretrained('bert-base-uncased')\n",
    "model = BertModel.from_pretrained('bert-base-uncased')\n",
    "\n",
    "# Función para vectorizar texto usando BERT\n",
    "def bert_vectorize(texts):\n",
    "    encoded_input = tokenizer(list(texts), padding=True, truncation=True, return_tensors=\"pt\", max_length=512)\n",
    "    with torch.no_grad():\n",
    "        model_output = model(**encoded_input)\n",
    "    # Usar los embeddings de la capa [CLS] como representación del texto\n",
    "    return model_output.last_hidden_state[:, 0, :].numpy()\n",
    "\n",
    "# Vectorizar el texto\n",
    "X_train_vectors = bert_vectorize(X_train)\n",
    "X_test_vectors = bert_vectorize(X_test)\n",
    "\n",
    "# Entrenar un modelo (Random Forest en este caso)\n",
    "clf = RandomForestClassifier(random_state=42)\n",
    "clf.fit(X_train_vectors, y_train)\n",
    "\n",
    "# Evaluar el modelo en el conjunto de entrenamiento\n",
    "y_train_pred = clf.predict(X_train_vectors)\n",
    "train_accuracy = accuracy_score(y_train, y_train_pred)\n",
    "print(\"Precisión en el conjunto de entrenamiento:\", train_accuracy)\n",
    "\n",
    "# Evaluar el modelo en el conjunto de prueba\n",
    "y_test_pred = clf.predict(X_test_vectors)\n",
    "test_accuracy = accuracy_score(y_test, y_test_pred)\n",
    "print(\"Precisión en el conjunto de prueba:\", test_accuracy)\n",
    "\n",
    "# Calcular el overfitting exacto\n",
    "overfitting = train_accuracy - test_accuracy\n",
    "print(\"Overfitting exacto: \", overfitting)\n",
    "\n",
    "# Imprimir el informe de clasificación\n",
    "print(\"\\nInforme de clasificación en el conjunto de prueba:\")\n",
    "print(classification_report(y_test, y_test_pred))\n",
    "\n",
    "# Guardar el modelo en un archivo utilizando joblib\n",
    "joblib_file = \"esencial_model.joblib\"\n",
    "joblib.dump(clf, joblib_file)\n",
    "print(f\"Modelo guardado en {joblib_file}\")\n"
   ]
  }
 ],
 "metadata": {
  "kernelspec": {
   "display_name": "Python 3",
   "language": "python",
   "name": "python3"
  },
  "language_info": {
   "codemirror_mode": {
    "name": "ipython",
    "version": 3
   },
   "file_extension": ".py",
   "mimetype": "text/x-python",
   "name": "python",
   "nbconvert_exporter": "python",
   "pygments_lexer": "ipython3",
   "version": "3.10.0"
  }
 },
 "nbformat": 4,
 "nbformat_minor": 2
}
