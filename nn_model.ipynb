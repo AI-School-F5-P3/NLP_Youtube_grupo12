{
 "cells": [
  {
   "cell_type": "code",
   "execution_count": 3,
   "metadata": {},
   "outputs": [
    {
     "name": "stderr",
     "output_type": "stream",
     "text": [
      "Some weights of DistilBertForSequenceClassification were not initialized from the model checkpoint at distilbert-base-uncased and are newly initialized: ['classifier.bias', 'classifier.weight', 'pre_classifier.bias', 'pre_classifier.weight']\n",
      "You should probably TRAIN this model on a down-stream task to be able to use it for predictions and inference.\n",
      "/Library/Frameworks/Python.framework/Versions/3.10/lib/python3.10/site-packages/transformers/optimization.py:591: FutureWarning: This implementation of AdamW is deprecated and will be removed in a future version. Use the PyTorch implementation torch.optim.AdamW instead, or set `no_deprecation_warning=True` to disable this warning\n",
      "  warnings.warn(\n",
      "Epoch 0: 100%|██████████| 50/50 [03:37<00:00,  4.34s/it, loss=0.634]\n",
      "Epoch 1: 100%|██████████| 50/50 [03:30<00:00,  4.22s/it, loss=0.162] \n",
      "Epoch 2: 100%|██████████| 50/50 [03:29<00:00,  4.19s/it, loss=0.264] \n"
     ]
    },
    {
     "name": "stdout",
     "output_type": "stream",
     "text": [
      "              precision    recall  f1-score   support\n",
      "\n",
      "           0       0.80      0.75      0.78        93\n",
      "           1       0.80      0.84      0.82       107\n",
      "\n",
      "    accuracy                           0.80       200\n",
      "   macro avg       0.80      0.80      0.80       200\n",
      "weighted avg       0.80      0.80      0.80       200\n",
      "\n"
     ]
    }
   ],
   "source": [
    "import pandas as pd\n",
    "from sklearn.model_selection import train_test_split\n",
    "from sklearn.metrics import classification_report\n",
    "from transformers import DistilBertTokenizer, DistilBertForSequenceClassification, AdamW\n",
    "import torch\n",
    "from torch.utils.data import DataLoader, TensorDataset\n",
    "from tqdm import tqdm\n",
    "import joblib\n",
    "\n",
    "# Cargar el dataset\n",
    "df = pd.read_csv('youtoxic_english_1000.csv')\n",
    "\n",
    "# Preparar los datos\n",
    "X = df['Text']\n",
    "y = df['IsToxic'].astype(int)\n",
    "\n",
    "# Dividir los datos en entrenamiento y prueba\n",
    "X_train, X_test, y_train, y_test = train_test_split(X, y, test_size=0.2, random_state=42)\n",
    "\n",
    "# Tokenización con DistilBERT\n",
    "tokenizer = DistilBertTokenizer.from_pretrained('distilbert-base-uncased')\n",
    "\n",
    "def tokenize_texts(texts, tokenizer, max_length=512):\n",
    "    return tokenizer(\n",
    "        list(texts),\n",
    "        max_length=max_length,\n",
    "        padding=True,\n",
    "        truncation=True,\n",
    "        return_tensors=\"pt\"\n",
    "    )\n",
    "\n",
    "train_encodings = tokenize_texts(X_train, tokenizer)\n",
    "test_encodings = tokenize_texts(X_test, tokenizer)\n",
    "\n",
    "# Crear datasets para PyTorch\n",
    "train_dataset = TensorDataset(train_encodings['input_ids'], train_encodings['attention_mask'], torch.tensor(y_train.values))\n",
    "test_dataset = TensorDataset(test_encodings['input_ids'], test_encodings['attention_mask'], torch.tensor(y_test.values))\n",
    "\n",
    "# Cargar modelo DistilBERT\n",
    "model = DistilBertForSequenceClassification.from_pretrained('distilbert-base-uncased', num_labels=2)\n",
    "\n",
    "# Configuración del optimizador\n",
    "optimizer = AdamW(model.parameters(), lr=5e-5)\n",
    "\n",
    "# Configuración del dispositivo (CPU o GPU)\n",
    "device = torch.device('cuda') if torch.cuda.is_available() else torch.device('cpu')\n",
    "model.to(device)\n",
    "\n",
    "# Función de entrenamiento\n",
    "def train_model(model, train_loader, optimizer, device, epochs=3):\n",
    "    model.train()\n",
    "    for epoch in range(epochs):\n",
    "        loop = tqdm(train_loader, leave=True)\n",
    "        for batch in loop:\n",
    "            input_ids, attention_mask, labels = [b.to(device) for b in batch]\n",
    "\n",
    "            optimizer.zero_grad()\n",
    "            outputs = model(input_ids, attention_mask=attention_mask, labels=labels)\n",
    "            loss = outputs.loss\n",
    "            loss.backward()\n",
    "            optimizer.step()\n",
    "\n",
    "            loop.set_description(f'Epoch {epoch}')\n",
    "            loop.set_postfix(loss=loss.item())\n",
    "\n",
    "# Crear DataLoader para entrenamiento y prueba\n",
    "train_loader = DataLoader(train_dataset, batch_size=16, shuffle=True)\n",
    "test_loader = DataLoader(test_dataset, batch_size=16)\n",
    "\n",
    "# Entrenar el modelo\n",
    "train_model(model, train_loader, optimizer, device)\n",
    "\n",
    "# Evaluar el modelo\n",
    "model.eval()\n",
    "y_preds = []\n",
    "y_true = []\n",
    "\n",
    "with torch.no_grad():\n",
    "    for batch in test_loader:\n",
    "        input_ids, attention_mask, labels = [b.to(device) for b in batch]\n",
    "        outputs = model(input_ids, attention_mask=attention_mask)\n",
    "        logits = outputs.logits\n",
    "        y_preds.extend(torch.argmax(logits, axis=1).cpu().numpy())\n",
    "        y_true.extend(labels.cpu().numpy())\n",
    "\n",
    "# Reporte de clasificación\n",
    "print(classification_report(y_true, y_preds))\n"
   ]
  },
  {
   "cell_type": "code",
   "execution_count": 4,
   "metadata": {},
   "outputs": [
    {
     "data": {
      "text/plain": [
       "['nn_model.joblib']"
      ]
     },
     "execution_count": 4,
     "metadata": {},
     "output_type": "execute_result"
    }
   ],
   "source": [
    "# Guardar el modelo en un archivo\n",
    "joblib.dump(model, 'nn_model.joblib')"
   ]
  },
  {
   "cell_type": "code",
   "execution_count": 5,
   "metadata": {},
   "outputs": [
    {
     "name": "stdout",
     "output_type": "stream",
     "text": [
      "Precisión en entrenamiento: 0.9825\n",
      "Precisión en prueba: 0.8\n",
      "Overfitting: 0.1825\n",
      "\n",
      "Informe de clasificación en prueba:\n",
      "              precision    recall  f1-score   support\n",
      "\n",
      "           0       0.80      0.75      0.78        93\n",
      "           1       0.80      0.84      0.82       107\n",
      "\n",
      "    accuracy                           0.80       200\n",
      "   macro avg       0.80      0.80      0.80       200\n",
      "weighted avg       0.80      0.80      0.80       200\n",
      "\n"
     ]
    }
   ],
   "source": [
    "import numpy as np\n",
    "import torch\n",
    "from sklearn.metrics import accuracy_score, classification_report\n",
    "from transformers import DistilBertTokenizer\n",
    "\n",
    "# Inicializar el tokenizador\n",
    "tokenizer = DistilBertTokenizer.from_pretrained('distilbert-base-uncased')\n",
    "\n",
    "def prepare_input(text_list):\n",
    "    # Tokenizar y preparar los datos para el modelo\n",
    "    encoded_input = tokenizer(text_list, padding=True, truncation=True, return_tensors=\"pt\")\n",
    "    return encoded_input\n",
    "\n",
    "def get_predictions(model, data):\n",
    "    model.eval()  # Poner el modelo en modo evaluación\n",
    "    with torch.no_grad():\n",
    "        outputs = model(**data)\n",
    "        logits = outputs.logits\n",
    "        predictions = torch.argmax(logits, dim=1)\n",
    "    return predictions.cpu().numpy()\n",
    "\n",
    "# Preparar datos de entrenamiento\n",
    "X_train_encoded = prepare_input(X_train.tolist())\n",
    "y_train_pred = get_predictions(model, X_train_encoded)\n",
    "train_accuracy = accuracy_score(y_train, y_train_pred)\n",
    "\n",
    "# Preparar datos de prueba\n",
    "X_test_encoded = prepare_input(X_test.tolist())\n",
    "y_test_pred = get_predictions(model, X_test_encoded)\n",
    "test_accuracy = accuracy_score(y_test, y_test_pred)\n",
    "\n",
    "# Cálculo del overfitting\n",
    "overfitting = train_accuracy - test_accuracy\n",
    "\n",
    "print(\"Precisión en entrenamiento:\", train_accuracy)\n",
    "print(\"Precisión en prueba:\", test_accuracy)\n",
    "print(\"Overfitting:\", overfitting)\n",
    "\n",
    "print(\"\\nInforme de clasificación en prueba:\")\n",
    "print(classification_report(y_test, y_test_pred))"
   ]
  },
  {
   "cell_type": "code",
   "execution_count": 6,
   "metadata": {},
   "outputs": [
    {
     "name": "stdout",
     "output_type": "stream",
     "text": [
      "\n",
      "Text: I love how diverse and multicultural our community is!\n",
      "Prediction: NOT HATE SPEECH\n",
      "\n",
      "Text: You're stupid and worthless because of your race\n",
      "Prediction: HATE SPEECH\n",
      "\n",
      "Text: Everyone deserves to be treated with respect and dignity\n",
      "Prediction: NOT HATE SPEECH\n",
      "\n",
      "Text: All [ethnic group] should be banned from this country!\n",
      "Prediction: HATE SPEECH\n",
      "\n",
      "Text: Had a great time learning about different cultures today\n",
      "Prediction: NOT HATE SPEECH\n"
     ]
    }
   ],
   "source": [
    "test_sentences = [\n",
    "    \"I love how diverse and multicultural our community is!\", # No hate\n",
    "    \"You're stupid and worthless because of your race\", # Hate\n",
    "    \"Everyone deserves to be treated with respect and dignity\", # No hate\n",
    "    \"All [ethnic group] should be banned from this country!\", # Hate\n",
    "    \"Had a great time learning about different cultures today\" # No hate\n",
    "]\n",
    "\n",
    "# Preparar los datos de entrada\n",
    "test_encoded = prepare_input(test_sentences)\n",
    "\n",
    "# Obtener predicciones\n",
    "predictions = get_predictions(model, test_encoded)\n",
    "\n",
    "# Mostrar resultados\n",
    "for sentence, pred in zip(test_sentences, predictions):\n",
    "    label = \"HATE SPEECH\" if pred == 1 else \"NOT HATE SPEECH\"\n",
    "    print(f\"\\nText: {sentence}\")\n",
    "    print(f\"Prediction: {label}\")"
   ]
  }
 ],
 "metadata": {
  "kernelspec": {
   "display_name": "Python 3",
   "language": "python",
   "name": "python3"
  },
  "language_info": {
   "codemirror_mode": {
    "name": "ipython",
    "version": 3
   },
   "file_extension": ".py",
   "mimetype": "text/x-python",
   "name": "python",
   "nbconvert_exporter": "python",
   "pygments_lexer": "ipython3",
   "version": "3.10.0"
  }
 },
 "nbformat": 4,
 "nbformat_minor": 2
}
