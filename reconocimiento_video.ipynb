{
 "cells": [
  {
   "cell_type": "code",
   "execution_count": 8,
   "metadata": {},
   "outputs": [],
   "source": [
    "from googleapiclient.discovery import build\n",
    "import re\n",
    "import nltk\n",
    "from nltk.corpus import stopwords\n",
    "from nltk.tokenize import word_tokenize\n",
    "import pandas as pd\n",
    "from sklearn.model_selection import train_test_split\n",
    "from sklearn.feature_extraction.text import TfidfVectorizer\n",
    "from sklearn.ensemble import RandomForestClassifier\n",
    "from sklearn.metrics import classification_report\n",
    "import matplotlib.pyplot as plt\n",
    "import os\n",
    "from dotenv import load_dotenv\n",
    "\n",
    "\n",
    "def get_video_comments(video_id, API_KEY, max_results=1000):\n",
    "    youtube = build('youtube', 'v3', developerKey=API_KEY)\n",
    "    \n",
    "    comments = []\n",
    "    results = youtube.commentThreads().list(\n",
    "        part=\"snippet\",\n",
    "        videoId=video_id,\n",
    "        textFormat=\"plainText\",\n",
    "        maxResults=max_results\n",
    "    ).execute()\n",
    "    \n",
    "    for item in results[\"items\"]:\n",
    "        comment = item[\"snippet\"][\"topLevelComment\"][\"snippet\"][\"textDisplay\"]\n",
    "        comments.append(comment)\n",
    "    \n",
    "    return comments\n"
   ]
  },
  {
   "cell_type": "code",
   "execution_count": 9,
   "metadata": {},
   "outputs": [
    {
     "name": "stdout",
     "output_type": "stream",
     "text": [
      "              precision    recall  f1-score   support\n",
      "\n",
      "       False       0.62      0.86      0.72        93\n",
      "        True       0.82      0.54      0.65       107\n",
      "\n",
      "    accuracy                           0.69       200\n",
      "   macro avg       0.72      0.70      0.69       200\n",
      "weighted avg       0.73      0.69      0.68       200\n",
      "\n"
     ]
    }
   ],
   "source": [
    "# Cargar datos\n",
    "df = pd.read_csv('youtoxic_english_1000.csv')\n",
    "\n",
    "# Preprocesar texto\n",
    "df['processed_text'] = df['Text'].apply(preprocess_text)\n",
    "\n",
    "# Dividir en conjunto de entrenamiento y prueba\n",
    "X_train, X_test, y_train, y_test = train_test_split(\n",
    "    df['processed_text'], df['IsToxic'], test_size=0.2, random_state=42\n",
    ")\n",
    "\n",
    "# Vectorización TF-IDF\n",
    "vectorizer = TfidfVectorizer()\n",
    "X_train_vectorized = vectorizer.fit_transform(X_train)\n",
    "X_test_vectorized = vectorizer.transform(X_test)\n",
    "\n",
    "# Entrenar modelo\n",
    "model = RandomForestClassifier(n_estimators=100, random_state=42)\n",
    "model.fit(X_train_vectorized, y_train)\n",
    "\n",
    "# Evaluar modelo\n",
    "y_pred = model.predict(X_test_vectorized)\n",
    "print(classification_report(y_test, y_pred))\n"
   ]
  },
  {
   "cell_type": "code",
   "execution_count": 10,
   "metadata": {},
   "outputs": [],
   "source": [
    "def classify_comments(comments, model, vectorizer):\n",
    "    processed_comments = [preprocess_text(comment) for comment in comments]\n",
    "    vectorized_comments = vectorizer.transform(processed_comments)\n",
    "    predictions = model.predict(vectorized_comments)\n",
    "    return predictions\n"
   ]
  },
  {
   "cell_type": "code",
   "execution_count": 11,
   "metadata": {},
   "outputs": [],
   "source": [
    "def visualize_results(comments, predictions):\n",
    "    toxic_count = sum(predictions)\n",
    "    non_toxic_count = len(predictions) - toxic_count\n",
    "    \n",
    "    plt.figure(figsize=(10, 6))\n",
    "    plt.bar(['No tóxico', 'Tóxico'], [non_toxic_count, toxic_count])\n",
    "    plt.title('Clasificación de comentarios')\n",
    "    plt.ylabel('Número de comentarios')\n",
    "    plt.show()\n",
    "    \n",
    "    print(f\"Comentarios tóxicos: {toxic_count}\")\n",
    "    print(f\"Comentarios no tóxicos: {non_toxic_count}\")\n",
    "    \n",
    "    print(\"\\nEjemplos de comentarios tóxicos:\")\n",
    "    for comment, prediction in zip(comments, predictions):\n",
    "        if prediction:\n",
    "            print(f\"- {comment[:1000]}...\")\n"
   ]
  },
  {
   "cell_type": "code",
   "execution_count": 12,
   "metadata": {},
   "outputs": [
    {
     "data": {
      "image/png": "[encoded data removed]",
      "text/plain": [
       "<Figure size 1000x600 with 1 Axes>"
      ]
     },
     "metadata": {},
     "output_type": "display_data"
    },
    {
     "name": "stdout",
     "output_type": "stream",
     "text": [
      "Comentarios tóxicos: 1\n",
      "Comentarios no tóxicos: 99\n",
      "\n",
      "Ejemplos de comentarios tóxicos:\n",
      "- He was just trying to get that cooter 😂...\n"
     ]
    }
   ],
   "source": [
    "load_dotenv()  # Carga las variables de entorno desde .env\n",
    "API_KEY = os.getenv('API_KEY')\n",
    "video_id = '4N1iwQxiHrs'\n",
    "\n",
    "# Obtener comentarios\n",
    "comments = get_video_comments(video_id, API_KEY)\n",
    "\n",
    "# Clasificar comentarios\n",
    "predictions = classify_comments(comments, model, vectorizer)\n",
    "\n",
    "# Visualizar resultados\n",
    "visualize_results(comments, predictions)\n"
   ]
  }
 ],
 "metadata": {
  "kernelspec": {
   "display_name": "Python 3",
   "language": "python",
   "name": "python3"
  },
  "language_info": {
   "codemirror_mode": {
    "name": "ipython",
    "version": 3
   },
   "file_extension": ".py",
   "mimetype": "text/x-python",
   "name": "python",
   "nbconvert_exporter": "python",
   "pygments_lexer": "ipython3",
   "version": "3.10.0"
  }
 },
 "nbformat": 4,
 "nbformat_minor": 2
}
