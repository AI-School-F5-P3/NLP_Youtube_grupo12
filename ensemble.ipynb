{
 "cells": [
  {
   "cell_type": "code",
   "execution_count": 1,
   "metadata": {},
   "outputs": [
    {
     "name": "stderr",
     "output_type": "stream",
     "text": [
      "[nltk_data] Error loading punkt: <urlopen error [SSL:\n",
      "[nltk_data]     CERTIFICATE_VERIFY_FAILED] certificate verify failed:\n",
      "[nltk_data]     unable to get local issuer certificate (_ssl.c:997)>\n",
      "[nltk_data] Error loading stopwords: <urlopen error [SSL:\n",
      "[nltk_data]     CERTIFICATE_VERIFY_FAILED] certificate verify failed:\n",
      "[nltk_data]     unable to get local issuer certificate (_ssl.c:997)>\n"
     ]
    }
   ],
   "source": [
    "import pandas as pd\n",
    "import numpy as np\n",
    "from sklearn.model_selection import train_test_split\n",
    "from sklearn.feature_extraction.text import TfidfVectorizer\n",
    "from sklearn.ensemble import RandomForestClassifier, VotingClassifier\n",
    "from sklearn.linear_model import LogisticRegression\n",
    "from sklearn.svm import SVC\n",
    "from sklearn.metrics import classification_report, f1_score\n",
    "from sklearn.pipeline import Pipeline\n",
    "import nltk\n",
    "from nltk.corpus import stopwords\n",
    "from nltk.tokenize import word_tokenize\n",
    "import re\n",
    "\n",
    "# Descargar recursos de NLTK\n",
    "nltk.download('punkt')\n",
    "nltk.download('stopwords')\n",
    "\n",
    "# Función de preprocesamiento\n",
    "def preprocess_text(text):\n",
    "    text = text.lower()\n",
    "    text = re.sub(r'[^a-zA-Z\\s]', '', text)\n",
    "    tokens = word_tokenize(text)\n",
    "    stop_words = set(stopwords.words('english'))\n",
    "    tokens = [token for token in tokens if token not in stop_words]\n",
    "    return ' '.join(tokens)\n",
    "\n",
    "# Cargar los datos\n",
    "df = pd.read_csv('datos_procesados.csv')\n"
   ]
  },
  {
   "cell_type": "code",
   "execution_count": 2,
   "metadata": {},
   "outputs": [],
   "source": [
    "\n",
    "# Aplicar preprocesamiento\n",
    "df['processed_text'] = df['Text'].apply(preprocess_text)\n",
    "\n",
    "# Preparar características (X) y etiquetas (y)\n",
    "X = df['processed_text']\n",
    "y = df['IsToxic']\n",
    "\n",
    "# Dividir en conjuntos de entrenamiento y prueba\n",
    "X_train, X_test, y_train, y_test = train_test_split(X, y, test_size=0.2, random_state=42)\n",
    "\n",
    "# Crear el pipeline con Voting Classifier\n",
    "pipeline = Pipeline([\n",
    "    ('tfidf', TfidfVectorizer(max_features=5000)),\n",
    "    ('clf', VotingClassifier(estimators=[\n",
    "        ('rf', RandomForestClassifier(n_estimators=100, random_state=42)),\n",
    "        ('lr', LogisticRegression(random_state=42)),\n",
    "        ('svm', SVC(probability=True, random_state=42))\n",
    "    ], voting='soft'))\n",
    "])\n",
    "\n"
   ]
  },
  {
   "cell_type": "code",
   "execution_count": 3,
   "metadata": {},
   "outputs": [
    {
     "name": "stdout",
     "output_type": "stream",
     "text": [
      "F1-score en entrenamiento: 0.9971910112359551\n",
      "F1-score en prueba: 0.6770833333333334\n",
      "Overfitting (diferencia): 0.32010767790262173\n",
      "\n",
      "Informe de clasificación en conjunto de prueba:\n",
      "              precision    recall  f1-score   support\n",
      "\n",
      "       False       0.63      0.78      0.70        93\n",
      "        True       0.76      0.61      0.68       107\n",
      "\n",
      "    accuracy                           0.69       200\n",
      "   macro avg       0.70      0.70      0.69       200\n",
      "weighted avg       0.70      0.69      0.69       200\n",
      "\n"
     ]
    }
   ],
   "source": [
    "# Entrenar el modelo\n",
    "pipeline.fit(X_train, y_train)\n",
    "\n",
    "# Evaluar en conjunto de entrenamiento\n",
    "y_train_pred = pipeline.predict(X_train)\n",
    "train_f1 = f1_score(y_train, y_train_pred)\n",
    "\n",
    "# Evaluar en conjunto de prueba\n",
    "y_test_pred = pipeline.predict(X_test)\n",
    "test_f1 = f1_score(y_test, y_test_pred)\n",
    "\n",
    "# Calcular overfitting\n",
    "overfitting = train_f1 - test_f1\n",
    "\n",
    "print(\"F1-score en entrenamiento:\", train_f1)\n",
    "print(\"F1-score en prueba:\", test_f1)\n",
    "print(\"Overfitting (diferencia):\", overfitting)\n",
    "print(\"\\nInforme de clasificación en conjunto de prueba:\")\n",
    "print(classification_report(y_test, y_test_pred))\n",
    "\n"
   ]
  },
  {
   "cell_type": "code",
   "execution_count": 4,
   "metadata": {},
   "outputs": [
    {
     "name": "stdout",
     "output_type": "stream",
     "text": [
      "\n",
      "Ejemplos de clasificación:\n",
      "Tóxico\n",
      "No tóxico\n",
      "No tóxico\n"
     ]
    }
   ],
   "source": [
    "# Función para clasificar nuevos comentarios\n",
    "def classify_comment(comment):\n",
    "    processed = preprocess_text(comment)\n",
    "    prediction = pipeline.predict([processed])\n",
    "    return \"Tóxico\" if prediction[0] else \"No tóxico\"\n",
    "\n",
    "# Ejemplo de uso\n",
    "print(\"\\nEjemplos de clasificación:\")\n",
    "print(classify_comment(\"You are an idiot!\"))\n",
    "print(classify_comment(\"Have a nice day!\"))\n",
    "print(classify_comment(\"amazing!\"))"
   ]
  }
 ],
 "metadata": {
  "kernelspec": {
   "display_name": "Python 3",
   "language": "python",
   "name": "python3"
  },
  "language_info": {
   "codemirror_mode": {
    "name": "ipython",
    "version": 3
   },
   "file_extension": ".py",
   "mimetype": "text/x-python",
   "name": "python",
   "nbconvert_exporter": "python",
   "pygments_lexer": "ipython3",
   "version": "3.10.0"
  }
 },
 "nbformat": 4,
 "nbformat_minor": 2
}
